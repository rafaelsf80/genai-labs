{
  "cells": [
    {
      "cell_type": "markdown",
      "metadata": {
        "id": "D_PJXw3uzyT0"
      },
      "source": [
        "# 03-3: JAX intro"
      ]
    },
    {
      "cell_type": "code",
      "execution_count": 4,
      "metadata": {},
      "outputs": [],
      "source": [
        "import jax\n",
        "import jax.numpy as jnp\n",
        "from jax import grad, jit, vmap\n",
        "from jax import random"
      ]
    },
    {
      "cell_type": "markdown",
      "metadata": {
        "id": "6_117sy0CGEU"
      },
      "source": [
        "## Using `numpy` with JAX"
      ]
    },
    {
      "cell_type": "code",
      "execution_count": null,
      "metadata": {
        "colab": {
          "base_uri": "https://localhost:8080/"
        },
        "id": "ZqUzvqF1B1TO",
        "outputId": "bcd5f6c3-8220-491e-9c24-45eeb6eb0e22"
      },
      "outputs": [],
      "source": [
        "# TODO: Use `np.arange` with JAX and numpy"
      ]
    },
    {
      "cell_type": "code",
      "execution_count": null,
      "metadata": {
        "id": "Yx8VofzzoHFH"
      },
      "outputs": [],
      "source": [
        "# TODO: Compare numpy and jnp speeds"
      ]
    },
    {
      "cell_type": "markdown",
      "metadata": {},
      "source": [
        "## Matrix multiplications"
      ]
    },
    {
      "cell_type": "code",
      "execution_count": null,
      "metadata": {},
      "outputs": [],
      "source": [
        "# TODO: Do matrix multiplications with JAX and numpy\n"
      ]
    },
    {
      "cell_type": "markdown",
      "metadata": {},
      "source": [
        "## Using `jit`"
      ]
    },
    {
      "cell_type": "code",
      "execution_count": null,
      "metadata": {},
      "outputs": [],
      "source": [
        "# TODO: Use @jit decorator to compile multiple operations together using XLA\n"
      ]
    },
    {
      "cell_type": "markdown",
      "metadata": {
        "id": "PkCpI-v0uQQO"
      },
      "source": [
        "\n",
        "\n",
        "## Using `grad` for derivatives"
      ]
    },
    {
      "cell_type": "code",
      "execution_count": 5,
      "metadata": {
        "id": "LuaGUVRUvbzQ"
      },
      "outputs": [],
      "source": [
        "# TODO: Implement derivatives for the function below"
      ]
    },
    {
      "cell_type": "markdown",
      "metadata": {
        "id": "s5VCnRD27L3b"
      },
      "source": [
        "If x is of length 3, we have"
      ]
    },
    {
      "cell_type": "markdown",
      "metadata": {
        "id": "gMuU4TsC6bv7"
      },
      "source": [
        "$$f(x_{1}, x_{2}, x_{3}) = x_1^2 + x_2^2+x_3^3$$"
      ]
    },
    {
      "cell_type": "markdown",
      "metadata": {
        "id": "VM-WtftF7tPC"
      },
      "source": [
        "$$\\nabla f= \\left(\\frac{df}{dx_1}, \\frac{df}{dx_2}, \\frac{df}{dx_3}\\right)$$"
      ]
    },
    {
      "cell_type": "markdown",
      "metadata": {
        "id": "ye0DLjJu8VHg"
      },
      "source": [
        "$$\\nabla f(x_1,x_2,x_3) = (2x_1, 2x_2, 2x_3)$$"
      ]
    },
    {
      "cell_type": "markdown",
      "metadata": {},
      "source": [
        "## Using `vmap` for automatic vectorization"
      ]
    },
    {
      "cell_type": "code",
      "execution_count": null,
      "metadata": {},
      "outputs": [],
      "source": [
        "# TODO: Implement automatic vectorization with vmap"
      ]
    },
    {
      "cell_type": "markdown",
      "metadata": {
        "id": "utsa_3K_GOxp"
      },
      "source": [
        "## Training a JAX ML model\n",
        "\n",
        "\n"
      ]
    },
    {
      "cell_type": "code",
      "execution_count": 16,
      "metadata": {
        "id": "sadwu9RcoH_n"
      },
      "outputs": [],
      "source": [
        "# TODO: Implement a simple linear regression model training with JAX, $y=wx+b$\n"
      ]
    }
  ],
  "metadata": {
    "accelerator": "GPU",
    "colab": {
      "provenance": []
    },
    "kernelspec": {
      "display_name": "Python 3",
      "name": "python3"
    },
    "language_info": {
      "codemirror_mode": {
        "name": "ipython",
        "version": 3
      },
      "file_extension": ".py",
      "mimetype": "text/x-python",
      "name": "python",
      "nbconvert_exporter": "python",
      "pygments_lexer": "ipython3",
      "version": "3.10.13"
    }
  },
  "nbformat": 4,
  "nbformat_minor": 0
}
