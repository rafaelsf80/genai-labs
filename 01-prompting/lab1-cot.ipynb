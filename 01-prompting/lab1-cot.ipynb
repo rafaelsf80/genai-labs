{
  "cells": [
    {
      "cell_type": "markdown",
      "metadata": {
        "id": "ZJ5caKL2Ff2B"
      },
      "source": [
        "# Solution 1: Chain of Thought "
      ]
    },
    {
      "cell_type": "markdown",
      "metadata": {
        "id": "GC1b7po9xWM6"
      },
      "source": [
        "## Setup\n",
        "\n",
        "Make sure you restart the kernel after package installation"
      ]
    },
    {
      "cell_type": "code",
      "execution_count": null,
      "metadata": {
        "colab": {
          "base_uri": "https://localhost:8080/",
          "height": 1000
        },
        "id": "NZ_4h24m-B8u",
        "outputId": "639a80ce-26a2-47e3-c992-b3032338d33b"
      },
      "outputs": [],
      "source": [
        "# Tested with these package versions.\n",
        "!pip install --user langchain==0.0.316 google-cloud-aiplatform==1.35.0 prettyprinter==0.18.0 wikipedia==1.4.0"
      ]
    },
    {
      "cell_type": "markdown",
      "metadata": {
        "id": "gCngWdptsN_Q"
      },
      "source": [
        "## Setup for Colab (if applicable)\n"
      ]
    },
    {
      "cell_type": "code",
      "execution_count": null,
      "metadata": {
        "colab": {
          "base_uri": "https://localhost:8080/"
        },
        "id": "JhnxRspMGGiz",
        "outputId": "9ee978cd-7ba9-4fa7-a339-7f2b02846627"
      },
      "outputs": [],
      "source": [
        "# Colab authentication.\n",
        "import sys\n",
        "\n",
        "if \"google.colab\" in sys.modules:\n",
        "    from google.colab import auth\n",
        "    auth.authenticate_user()\n",
        "    print('Authenticated')"
      ]
    },
    {
      "cell_type": "markdown",
      "metadata": {},
      "source": [
        "## Setup wandb"
      ]
    },
    {
      "cell_type": "markdown",
      "metadata": {
        "id": "bSeWZt3ZpxeY"
      },
      "source": [
        "## Set up GCP and models"
      ]
    },
    {
      "cell_type": "code",
      "execution_count": null,
      "metadata": {
        "id": "mLDEjCVzp7eh"
      },
      "outputs": [],
      "source": [
        "PROJECT_ID = \"argolis-rafaelsanchez-ml-dev\"  # @param {type:\"string\"}\n",
        "LOCATION = \"us-central1\"  # @param {type:\"string\"}\n",
        "# Code examples may misbehave if the model is changed.\n",
        "MODEL_NAME = \"text-bison@001\""
      ]
    },
    {
      "cell_type": "code",
      "execution_count": null,
      "metadata": {
        "id": "2fTAg64qFY2B"
      },
      "outputs": [],
      "source": [
        "import vertexai\n",
        "from vertexai.language_models import TextGenerationModel\n",
        "from vertexai.preview.generative_models import GenerativeModel\n",
        "\n",
        "\n",
        "vertexai.init(project=PROJECT_ID,\n",
        "              location=LOCATION)\n",
        "parameters = {\n",
        "    \"temperature\": 0,\n",
        "    \"max_output_tokens\": 1024,\n",
        "    \"top_p\": 0.8,\n",
        "    \"top_k\": 40\n",
        "}\n",
        "\n",
        "model = TextGenerationModel.from_pretrained(MODEL_NAME)\n",
        "\n",
        "generative_model = GenerativeModel(\"gemini-pro\")\n"
      ]
    },
    {
      "cell_type": "markdown",
      "metadata": {
        "id": "XSpDXdhBvhtu"
      },
      "source": [
        "This function is used throughout the notebook to show the full LLM call and the response."
      ]
    },
    {
      "cell_type": "code",
      "execution_count": null,
      "metadata": {},
      "outputs": [],
      "source": [
        "import time\n",
        "\n",
        "def call_llm(model, description, parameters, llm_call, show_activity = True):\n",
        "  \n",
        "  # text-bison\n",
        "  res = model.predict(llm_call, **parameters).text\n",
        "  \n",
        "  ## Only show response from text-bison, not openai or Gemini\n",
        "  if show_activity:\n",
        "    BOLD = \"\\033[1m\"\n",
        "    UNFORMAT = \"\\033[0m\\x1B[0m\"\n",
        "    print(f\"{BOLD}The call to the LLM:{UNFORMAT}\\n{llm_call}\\n\")\n",
        "    print(f\"{BOLD}The response:{UNFORMAT}\")\n",
        "    print(res)\n",
        "        \n",
        "\n",
        "  return res  # Return to `_` if not needed.\n",
        "\n",
        "\n",
        " \n",
        "\n",
        "# Wrap code cell output to improve notebook readability.\n",
        "# Source: https://stackoverflow.com/questions/58890109/line-wrapping-in-collaboratory-google-results/61401455#61401455\n",
        "from IPython.display import HTML, display\n",
        "\n",
        "def set_css():\n",
        "  display(HTML('''\n",
        "  <style>\n",
        "    pre {\n",
        "        white-space: pre-wrap;\n",
        "    }\n",
        "  </style>\n",
        "  '''))\n",
        "get_ipython().events.register('pre_run_cell', set_css)"
      ]
    },
    {
      "cell_type": "markdown",
      "metadata": {
        "id": "ydRfjsuBI5Ip"
      },
      "source": [
        "## Basic examples"
      ]
    },
    {
      "cell_type": "code",
      "execution_count": null,
      "metadata": {
        "colab": {
          "base_uri": "https://localhost:8080/",
          "height": 191
        },
        "id": "0VJcAD7lYXE0",
        "outputId": "188ae075-ff00-4a5b-fca2-b40ec449a777"
      },
      "outputs": [],
      "source": [
        "question = \"\"\"Q: Roger has 5 tennis balls. He buys 2 more cans of tennis balls.\n",
        "Each can has 3 tennis balls. How many tennis balls does he have now?\n",
        "A: The answer is 11.\n",
        "Q: The cafeteria had 23 apples.\n",
        "If they used 20 to make lunch and bought 6 more, how many apples do they have?\n",
        "A:\"\"\"\n",
        "\n",
        "_ = call_llm(model, \"no_cot\", parameters, question)"
      ]
    },
    {
      "cell_type": "markdown",
      "metadata": {
        "id": "_vmzEro2Z707"
      },
      "source": [
        "Rewrite 1: incluing the exemplar to include a chain of thought shows the LLM how to decompose the question into multiple simple steps of reasoning.\n",
        "\n",
        "The model response then follows a similar chain of thought, increasing the likelihood of a correct answer."
      ]
    },
    {
      "cell_type": "code",
      "execution_count": null,
      "metadata": {
        "colab": {
          "base_uri": "https://localhost:8080/",
          "height": 225
        },
        "id": "X_QojLuvZzLV",
        "outputId": "9f88591f-1f86-4092-8d22-63a875cb0df0"
      },
      "outputs": [],
      "source": [
        "question = \"\"\"Q: Roger has 5 tennis balls. He buys 2 more cans of tennis balls.\n",
        "Each can has 3 tennis balls. How many tennis balls does he have now?\n",
        "A: Roger started with 5 balls. 2 cans of 3 tennis balls\n",
        "each is 6 tennis balls. 5 + 6 = 11. The answer is 11.\n",
        "Q: The cafeteria had 23 apples.\n",
        "If they used 20 to make lunch and bought 6 more, how many apples do they have?\n",
        "A:\"\"\"\n",
        "\n",
        "_ = call_llm(model, \"cot_rewrite1\", parameters, question)"
      ]
    },
    {
      "cell_type": "markdown",
      "metadata": {
        "id": "gjwgFMOLaem9"
      },
      "source": [
        "Notice the chain of thought includes both text describing the steps to follow and intermediate outputs/conclusions from each reasoning step.\n",
        "\n",
        "Rewrite 2: Try experimenting with different questions by changing the `question` variable in the code below."
      ]
    },
    {
      "cell_type": "code",
      "execution_count": null,
      "metadata": {
        "colab": {
          "base_uri": "https://localhost:8080/",
          "height": 260
        },
        "id": "Fd4e62T7aWoG",
        "outputId": "6861171f-a05a-4606-af7a-b959dd67b4bb"
      },
      "outputs": [],
      "source": [
        "question = \"\"\"Nomfundo writes legal briefs.\n",
        "Each brief has 3 sections, each section takes 4 hours.\n",
        "She wrote 3 briefs this week. How long did it take?\"\"\"\n",
        "\n",
        "one_shot_exemplar = \"\"\"Q: Roger has 5 tennis balls.\n",
        "He buys 2 more cans of tennis balls.\n",
        "Each can has 3 tennis balls. How many tennis balls does he have now?\n",
        "A: Roger started with 5 balls. 2 cans of 3 tennis balls\n",
        "each is 6 tennis balls. 5 + 6 = 11. The answer is 11.\n",
        "Q: \"\"\"\n",
        "\n",
        "# Prepending the one shot exemplar before the question we want answered.\n",
        "llm_call = f\"{one_shot_exemplar}{question}\\nA:\"\n",
        "_ = call_llm(model, \"cot_rewrite2\", parameters, llm_call)"
      ]
    },
    {
      "cell_type": "markdown",
      "metadata": {
        "id": "5XUp7beLcQsS"
      },
      "source": [
        "The LLM response will usually mimic the reasoning style in the exemplars. This means you'll get the best performance if the chain of thought reasoning in your exemplars is a good fit for the task.\n",
        "\n",
        "Compare the cells below.\n",
        "\n",
        "Rewrite 3: factory question with failure"
      ]
    },
    {
      "cell_type": "code",
      "execution_count": null,
      "metadata": {
        "colab": {
          "base_uri": "https://localhost:8080/",
          "height": 416
        },
        "id": "BPQVYIPucnkF",
        "outputId": "42377444-7537-4300-bcb7-a92bd896565f"
      },
      "outputs": [],
      "source": [
        "# Correct answer: 360, 375.\n",
        "question = \"\"\"A high efficiency factory produces 100 units per day.\n",
        "A medium efficiency factory produces 60 units per day.\n",
        "A low efficiency factory produces 30 units per day.\n",
        "Megacorp owns 5 factories. 3 are high efficiency, 2 are low efficiency.\n",
        "Tomorrow they reconfigure a low efficiency factory up to medium efficiency.\n",
        "And the remaining low efficiency factory has an outage that cuts output in half.\n",
        "How many units can they produce today? How many tomorrow?\"\"\"\n",
        "\n",
        "one_shot_exemplar = \"\"\"Q: Roger has 5 tennis balls.\n",
        "He buys 2 more cans of tennis balls.\n",
        "Each can has 3 tennis balls. How many tennis balls does he have now?\n",
        "A: Roger started with 5 balls. 2 cans of 3 tennis balls\n",
        "each is 6 tennis balls. 5 + 6 = 11. The answer is 11.\n",
        "Q: \"\"\"\n",
        "\n",
        "llm_call = f\"{one_shot_exemplar}{question}\\nA:\"\n",
        "_ = call_llm(model, \"cot_rewrite3_factory\", parameters, llm_call)"
      ]
    },
    {
      "cell_type": "markdown",
      "metadata": {
        "id": "DJ6Xo0gwpi35"
      },
      "source": [
        "Note the mistake in the output. The LLM response fails to account for the 3 high efficiency factories that are still running tomorrow.\n",
        "\n",
        "For this task, it's better to use a chain of thought with reasoning steps that include a connection to different units of measurement (tennis ball can sizes vs. factory outputs) along with a carrying over of counts between days.\n",
        "\n",
        "Rewrite 4: factory question success"
      ]
    },
    {
      "cell_type": "code",
      "execution_count": null,
      "metadata": {
        "colab": {
          "base_uri": "https://localhost:8080/",
          "height": 590
        },
        "id": "ThikEZV1cNYM",
        "outputId": "5f3249ea-d624-4777-9729-00b58a6ab509"
      },
      "outputs": [],
      "source": [
        "better_one_shot_exemplar = \"\"\"Q: A large tennis ball can has 5 balls.\n",
        "A small tennis ball can has 3 balls.\n",
        "Roger has 3 large cans and 2 small cans today.\n",
        "Tomorrow he wins a bet and turns one small can into a large can.\n",
        "How many balls does he have today? How many tomorrow?\n",
        "A: 3 large cans is 3 * 5 = 15 tennis balls.\n",
        "2 small cans is 2 * 3 = 6 tennis balls.\n",
        "Today Roger has 15 + 6 = 21 tennis balls.\n",
        "Tomorrow's trade means losing one small tennis ball can and gaining a large can.\n",
        "Roger still has the cans he had yesterday.\n",
        "2 small cans from yesterday - 1 = 1 small can\n",
        "3 large cans from yesterday + 1 = 4 large cans\n",
        "4 large cans is 4 * 5 = 20 tennis balls.\n",
        "1 small can is 1 * 3 tennis balls.\n",
        "Tomorrow Roger has 20 + 3 = 23 tennis balls.\n",
        "Q: \"\"\"\n",
        "\n",
        "llm_call = f\"{better_one_shot_exemplar}{question}\\nA:\"\n",
        "_ = call_llm(model, \"cot_rewrite4_factory\", parameters, llm_call)"
      ]
    },
    {
      "cell_type": "code",
      "execution_count": null,
      "metadata": {},
      "outputs": [],
      "source": [
        "wandb.log({\"basic_cot_examples\": table})\n",
        "table = wandb.Table(columns=[\"model\", \"test\", \"time\", \"temperature\", \"max_output_tokens\", \"top_p\", \"top_k\", \"prompt\", \"response\"])\n",
        "\n"
      ]
    },
    {
      "cell_type": "markdown",
      "metadata": {
        "id": "YXNKuX_BttIk"
      },
      "source": [
        "## Chain of Thought Use Cases"
      ]
    },
    {
      "cell_type": "markdown",
      "metadata": {
        "id": "lRwGi1BUX8IE"
      },
      "source": [
        "#### Example: Table Understanding"
      ]
    },
    {
      "cell_type": "code",
      "execution_count": null,
      "metadata": {
        "colab": {
          "base_uri": "https://localhost:8080/",
          "height": 954
        },
        "id": "vFFmFWgIw_Lt",
        "outputId": "cb69607c-8aa8-4ef6-e12e-63c9970b3d0d"
      },
      "outputs": [],
      "source": [
        "# The correct answer is Post-War British Literature.\n",
        "question = \"\"\"\n",
        "| Book Name | Edition | ISBN | Publisher | Aug 1 Amazon Avg New Price | Aug 1 Amazon Avg Used Price | Aug 1 Abebooks Avg New Price | Aug 1 Abebooks Avg Used Price | Sep 1 Amazon Avg New Price | Sep 1 Amazon Avg Used Price | Sep 1 Abebooks Avg New Price | Sep 1 Abebooks Avg Used Price |\n",
        "|---|---|---|---|---|---|---|---|---|---|---|---|\n",
        "| Physics for Computer Scientists | 10th | 978-1-118-56906-1 | Pearson Education | $149.99 | $79.99 | $142.94 | $66.94 | $129.99 | $59.99 | $139.94 | $56.94 |\n",
        "| Fundamentals of Calculus | 8th | 978-0-470-45831-0 | John Wiley & Sons | $139.99 | $99.99 | $137.94 | $87.94 | $129.99 | $79.99 | $129.94 | $76.94 |\n",
        "| Post-War British Literature | 2nd | 978-0-300-08897-2 | Oxford University Press | $129.99 | $89.99 | $122.94 | $74.94 | $119.99 | $74.99 | $124.94 | $71.94 |\n",
        "| Modern Religions: An Overview | 3rd | 978-0-19-992545-3 | Oxford University Press | $119.99 | $79.99 | $117.94 | $72.94 | $114.99 | $69.99 | $114.94 | $66.94 |\n",
        "| The Norton Introduction to Literature | 11th | 978-0-393-45078-1 | W. W. Norton & Company | $129.99 | $89.99 | $122.94 | $74.94 | $119.99 | $74.99 | $124.94 | $71.94 |\n",
        "| The Norton Anthology of American Literature | 9th | 978-0-393-93750-8 | W. W. Norton & Company | $179.99 | $139.99 | $174.94 | $127.94 | $169.99 | $124.99 | $174.94 | $121.94 |\n",
        "| The Norton Anthology of World Literature | 8th | 978-0-393-92855-6 | W. W. Norton & Company | $179.99 | $139.99 | $174.94 | $127.94 | $169.99 | $124.99 | $174.94 | $121.94 |\n",
        "| The Elements of Style | 5th | 978-0-205-11265-3 | Longman | $119.99 | $79.99 | $117.94 | $72.94 | $114.99 | $69.99 | $114.94 | $66.94 |\n",
        "\n",
        "What Oxford book dropped the most in used book price on Amazon between Aug and Sep?\n",
        "\"\"\"\n",
        "\n",
        "context = \"\"\"Answer questions about a table.\n",
        "All questions must be supported by facts in the table.\n",
        "All reasoning must be done step by step.\n",
        "Explain the reasoning.\n",
        "When looking at multiple rows, explain the reasoning for each row one by one.\n",
        "\"\"\"\n",
        "\n",
        "llm_call = f\"{context}\\n{question}\\nAnswer:\"\n",
        "_ = call_llm(model, \"cot_table\", parameters, llm_call)"
      ]
    },
    {
      "cell_type": "markdown",
      "metadata": {
        "id": "M_bpOTJcXviZ"
      },
      "source": [
        "Now we add a few exemplars.\n",
        "\n",
        "Note that the exemplars use a different source table than the question, but the chain-of-thought reasoning still works."
      ]
    },
    {
      "cell_type": "code",
      "execution_count": null,
      "metadata": {
        "colab": {
          "base_uri": "https://localhost:8080/",
          "height": 1000
        },
        "id": "SGUOqCKO_SIW",
        "outputId": "7da90243-6768-4891-fd6c-a97ff35e565d"
      },
      "outputs": [],
      "source": [
        "few_shot_exemplar = \"\"\"\n",
        "Table:\n",
        "| Item Name | SKU | Vendor | Aug 1 Inventory | Sep 1 Inventory | Sale Count |\n",
        "|---|---|---|---|---|---|\n",
        "| iPhone 13 Pro Max | MGL83LL/A | Apple | 100 | 80 | 17 |\n",
        "| iPhone 13 Pro | MLL03LL/A | Apple | 50 | 40 | 9 |\n",
        "| iPhone 13 | MLKG3LL/A | Apple | 25 | 20 | 4 |\n",
        "| Samsung Galaxy S22 Ultra | SM-S908U | Samsung | 100 | 80 | 19 |\n",
        "| Samsung Galaxy S22 Plus | SM-S906U | Samsung | 50 | 40 | 10 |\n",
        "| Samsung Galaxy S22 | SM-S901U | Samsung | 25 | 20 | 5 |\n",
        "| Google Pixel 6 Pro | GA01314-US | Google | 100 | 80 | 20 |\n",
        "\n",
        "Question:\n",
        "What iPhone sold the most in August?\n",
        "Answer: I need to look at each item one by one and determine if it is an iPhone.\n",
        "Only iPhone items are considered.\n",
        "The iPhone items are the iPhone 13 Pro Max, the iPhone 13 Pro, and the iPhone 13.\n",
        "I need to look at how much each iPhone sold one by one, and then see which sold count is the highest.\n",
        "iPhone 13 Pro Max sale count is 17.\n",
        "iPhone 13 Pro sale count is 9.\n",
        "iPhone 13 sale count is 4.\n",
        "The biggest number of 17, 9, and 4 is 17.\n",
        "The answer is iPhone 13 Pro Max.\n",
        "\n",
        "Table:\n",
        "| Item Name | SKU | Vendor | Aug 1 Inventory | Sep 1 Inventory | Sale Count |\n",
        "|---|---|---|---|---|---|\n",
        "| iPhone 13 Pro Max | MGL83LL/A | Apple | 100 | 80 | 17 |\n",
        "| iPhone 13 Pro | MLL03LL/A | Apple | 50 | 40 | 9 |\n",
        "| iPhone 13 | MLKG3LL/A | Apple | 25 | 20 | 4 |\n",
        "| Samsung Galaxy S22 Ultra | SM-S908U | Samsung | 100 | 80 | 19 |\n",
        "| Samsung Galaxy S22 Plus | SM-S906U | Samsung | 50 | 40 | 10 |\n",
        "| Samsung Galaxy S22 | SM-S901U | Samsung | 25 | 20 | 5 |\n",
        "| Google Pixel 6 Pro | GA01314-US | Google | 100 | 80 | 20 |\n",
        "\n",
        "Question:\n",
        "What Samsung phone has the most units unaccounted for on Sep 1?\n",
        "Answer: I need to look at each item one by one and determine if it is a Samsung item.\n",
        "I have to look at the Item Name for Samsung items.\n",
        "Only Samsung items are considered.\n",
        "The Samsung items are the S22 Ultra, the S22 Plus, and the S22.\n",
        "One by one, I need to look at the Sep 1 and Aug 1 inventory difference for each Samsung item to see how many units should have been sold.\n",
        "Then I need to compare that number to the actual sale count value for that item.\n",
        "The phone with the biggest difference between the sale count field and the inventory differences is the most unaccounted for.\n",
        "Samsung Galaxy S22 Ultra had 100 in stock Aug 1 and 80 in stock Sep 1. 100 minus 80 is 20 (100 - 80 = 20). Sale count is 19. 20 minus 19 is 1 (20 - 19 = 1). 1 unit is unaccounted for.\n",
        "Samsung Galaxy S22 Plus had 50 in stock Aug 1 and 40 in stock Sep 1. 50 minus 40 is 10 (50 - 40 = 10). Sale count is 10. The sale count matches the inventory difference, no units are unaccounted for.\n",
        "Samsung Galaxy S22 had 25 in stock Aug 1 and 20 in stock Sep 1. 25 minus 20 is 5 (25 - 20 = 5). Sale count is 5. 20 minus 19 is 1. The sale count matches the inventory difference, no units are unaccounted for.\n",
        "Only the S22 Ultra had anything unaccounted for.\n",
        "The answer is Samsung Galaxy S22 Ultra.\n",
        "\n",
        "Table:\n",
        "| Item Name | SKU | Vendor | Aug 1 Inventory | Sep 1 Inventory | Sale Count |\n",
        "|---|---|---|---|---|---|\n",
        "| iPhone 13 Pro Max | MGL83LL/A | Apple | 100 | 80 | 17 |\n",
        "| iPhone 13 Pro | MLL03LL/A | Apple | 50 | 40 | 9 |\n",
        "| iPhone 13 | MLKG3LL/A | Apple | 25 | 20 | 4 |\n",
        "| Samsung Galaxy S22 Ultra | SM-S908U | Samsung | 100 | 80 | 19 |\n",
        "| Samsung Galaxy S22 Plus | SM-S906U | Samsung | 50 | 40 | 10 |\n",
        "| Samsung Galaxy S22 | SM-S901U | Samsung | 25 | 20 | 5 |\n",
        "| Google Pixel 6 Pro | GA01314-US | Google | 100 | 80 | 20 |\n",
        "\n",
        "Question:\n",
        "What vendor had the most total sales?\n",
        "Answer: I need to look at the vendors one by one.\n",
        "I have to deduce the vendors from the Item Name field.\n",
        "There are three unique vendors in the table: Apple, Samsung, and Google.\n",
        "For each vendor, I need to find the sale count for each item one by one, then add up the sales counts.\n",
        "The Apple items are the iPhone 13 Pro Max with 17 sales, the iPhone 13 Pro with 9 sales, and the iPhone 13 with 4 sales.\n",
        "17 + 9 + 4 = 30. 30 Apple phones were sold.\n",
        "The Samsung items are the Samsung Galaxy S22 Ultra with 19 sales, the Samsung Galaxy S22 Plus with 10 sales, and the Samsung Galaxy S22 with 5 sales.\n",
        "19 + 10 + 5 = 34. 34 Samsung phones were sold.\n",
        "The Google item is the Google Pixel 6 Pro with 20 sales. 20 Google phones were sold.\n",
        "30 Apple, 34 Samsung, 20 Google. 34 is the biggest number, it is for Samsung sales.\n",
        "The answer is Samsung.\n",
        "\n",
        "Table:\n",
        "| Item Name | SKU | Vendor | Aug 1 Inventory | Sep 1 Inventory | Sale Count |\n",
        "|---|---|---|---|---|---|\n",
        "| iPhone 13 Pro Max | MGL83LL/A | Apple | 100 | 80 | 17 |\n",
        "| iPhone 13 Pro | MLL03LL/A | Apple | 50 | 40 | 9 |\n",
        "| iPhone 13 | MLKG3LL/A | Apple | 25 | 20 | 4 |\n",
        "| Samsung Galaxy S22 Ultra | SM-S908U | Samsung | 100 | 80 | 19 |\n",
        "| Samsung Galaxy S22 Plus | SM-S906U | Samsung | 50 | 40 | 10 |\n",
        "| Samsung Galaxy S22 | SM-S901U | Samsung | 25 | 20 | 5 |\n",
        "| Google Pixel 6 Pro | GA01314-US | Google | 100 | 80 | 20 |\n",
        "\n",
        "Question:\n",
        "What item had the most sales?\n",
        "Answer: I need to look at each item one by one.\n",
        "The iPhone 13 Pro Max had 17 sales.\n",
        "The iPhone 13 Pro had 9 sales.\n",
        "The iPhone 13 had 4 sales.\n",
        "The Samsung Galaxy S22 Ultra had 19 sales.\n",
        "The Samsung Galaxy S22 Plus had 10 sales.\n",
        "The Samsung Galaxy S22 had 5 sales.\n",
        "The Google Pixel 6 Pro had 20 sales.\n",
        "The sales numbers are 17, 9, 3, 19, 10, 5, and 20.\n",
        "20 is the biggest sales number, that is for the Google Pixel 6 Pro.\n",
        "The answer is the Google Pixel 6 Pro.\n",
        "\n",
        "\"\"\"\n",
        "\n",
        "# Prepending the few shot exemplars before the question we want answered.\n",
        "llm_call = f\"{context}\\n{few_shot_exemplar}{question}\\nAnswer:\"\n",
        "_ = call_llm(model,  \"cot_table_different\", parameters, llm_call)"
      ]
    },
    {
      "cell_type": "markdown",
      "metadata": {
        "id": "Vf0vyGCAZndK"
      },
      "source": [
        "Two more questions (suppressing the model call for readability):"
      ]
    },
    {
      "cell_type": "code",
      "execution_count": null,
      "metadata": {
        "colab": {
          "base_uri": "https://localhost:8080/",
          "height": 277
        },
        "id": "Dm_GnH8yZb9-",
        "outputId": "9dbed298-b391-46e7-e959-5fbff4cff122"
      },
      "outputs": [],
      "source": [
        "# The correct answer is $6.15.\n",
        "question = \"\"\"\n",
        "Table:\n",
        "| Book Name | Edition | ISBN | Publisher | Aug 1 Amazon Avg New Price | Aug 1 Amazon Avg Used Price | Aug 1 Abebooks Avg New Price | Aug 1 Abebooks Avg Used Price | Sep 1 Amazon Avg New Price | Sep 1 Amazon Avg Used Price | Sep 1 Abebooks Avg New Price | Sep 1 Abebooks Avg Used Price |\n",
        "|---|---|---|---|---|---|---|---|---|---|---|---|\n",
        "| Physics for Computer Scientists | 10th | 978-1-118-56906-1 | Pearson Education | $149.99 | $79.99 | $142.94 | $66.94 | $129.99 | $59.99 | $139.94 | $56.94 |\n",
        "| Fundamentals of Calculus | 8th | 978-0-470-45831-0 | John Wiley & Sons | $139.99 | $99.99 | $137.94 | $87.94 | $129.99 | $79.99 | $129.94 | $76.94 |\n",
        "| Post-War British Literature | 2nd | 978-0-300-08897-2 | Oxford University Press | $129.99 | $89.99 | $122.94 | $74.94 | $119.99 | $74.99 | $124.94 | $71.94 |\n",
        "| Modern Religions: An Overview | 3rd | 978-0-19-992545-3 | Oxford University Press | $119.99 | $79.99 | $117.94 | $72.94 | $114.99 | $69.99 | $114.94 | $66.94 |\n",
        "| The Norton Introduction to Literature | 11th | 978-0-393-45078-1 | W. W. Norton & Company | $129.99 | $89.99 | $122.94 | $74.94 | $119.99 | $74.99 | $124.94 | $71.94 |\n",
        "| The Norton Anthology of World Literature | 8th | 978-0-393-92855-6 | W. W. Norton & Company | $179.99 | $139.99 | $174.94 | $127.94 | $169.99 | $124.99 | $174.94 | $121.94 |\n",
        "| The Elements of Style | 5th | 978-0-205-11265-3 | Longman | $119.99 | $79.99 | $117.94 | $72.94 | $114.99 | $69.99 | $114.94 | $66.94 |\n",
        "\n",
        "Question:\n",
        "How much money would be saved if I purchased 3 new copies of the Elements of Style from Abe books instead of Amazon in August?\n",
        "\"\"\"\n",
        "\n",
        "llm_call = f\"{context}\\n{few_shot_exemplar}{question}\\nAnswer:\"\n",
        "print(call_llm(model,  \"cot_table_question1\", parameters, llm_call, show_activity=False))\n",
        "\n",
        "print(\"\\n\\n\")\n",
        "\n",
        "# The correct answer is Physics for Computer Scientists.\n",
        "question = \"\"\"\n",
        "Table:\n",
        "| Book Name | Edition | ISBN | Publisher | Aug 1 Amazon Avg New Price | Aug 1 Amazon Avg Used Price | Aug 1 Abebooks Avg New Price | Aug 1 Abebooks Avg Used Price | Sep 1 Amazon Avg New Price | Sep 1 Amazon Avg Used Price | Sep 1 Abebooks Avg New Price | Sep 1 Abebooks Avg Used Price |\n",
        "|---|---|---|---|---|---|---|---|---|---|---|---|\n",
        "| Physics for Computer Scientists | 10th | 978-1-118-56906-1 | Pearson Education | $149.99 | $79.99 | $142.94 | $66.94 | $129.99 | $59.99 | $139.94 | $56.94 |\n",
        "| Fundamentals of Calculus | 8th | 978-0-470-45831-0 | John Wiley & Sons | $139.99 | $99.99 | $137.94 | $87.94 | $129.99 | $79.99 | $129.94 | $76.94 |\n",
        "| Post-War British Literature | 2nd | 978-0-300-08897-2 | Oxford University Press | $129.99 | $89.99 | $122.94 | $74.94 | $119.99 | $74.99 | $124.94 | $71.94 |\n",
        "| Modern Religions: An Overview | 3rd | 978-0-19-992545-3 | Oxford University Press | $119.99 | $79.99 | $117.94 | $72.94 | $114.99 | $69.99 | $114.94 | $66.94 |\n",
        "| The Norton Introduction to Literature | 11th | 978-0-393-45078-1 | W. W. Norton & Company | $129.99 | $89.99 | $122.94 | $74.94 | $119.99 | $74.99 | $124.94 | $71.94 |\n",
        "| The Norton Anthology of World Literature | 8th | 978-0-393-92855-6 | W. W. Norton & Company | $179.99 | $139.99 | $174.94 | $127.94 | $169.99 | $124.99 | $174.94 | $121.94 |\n",
        "| The Elements of Style | 5th | 978-0-205-11265-3 | Longman | $119.99 | $79.99 | $117.94 | $72.94 | $114.99 | $69.99 | $114.94 | $66.94 |\n",
        "\n",
        "Question: What book has the largest difference between new and used Aug Amazon prices?\n",
        "\"\"\"\n",
        "\n",
        "llm_call = f\"{context}\\n{few_shot_exemplar}{question}\\nAnswer:\"\n",
        "print(call_llm(model, \"cot_table_question2\", parameters, llm_call, show_activity=False))"
      ]
    },
    {
      "cell_type": "code",
      "execution_count": null,
      "metadata": {},
      "outputs": [],
      "source": [
        "wandb.log({\"table_understanding_examples\": table})\n",
        "table = wandb.Table(columns=[\"model\", \"test\", \"time\", \"temperature\", \"max_output_tokens\", \"top_p\", \"top_k\", \"prompt\", \"response\"])\n",
        "\n"
      ]
    },
    {
      "cell_type": "markdown",
      "metadata": {
        "id": "PWB4WcfdaLNi"
      },
      "source": [
        "#### Example: Tagging Data and Structured Data Output\n",
        "\n",
        "Two common needs for an LLM workflow are to generate tags or categories from a description, and to output structured data.\n",
        "\n",
        "This example does both. Tagging performance improves with chain-of-thought exemplars that reason through why certain tags are best (and provide interpretability for why the tags were chosen).\n",
        "\n",
        "Additionally, showing what the structured data output should look like, even for a common data format like JSON, will improve performance.\n",
        "\n",
        "[Data source](https://data.amerigeoss.org/dataset/gsa-json-adc1d)."
      ]
    },
    {
      "cell_type": "code",
      "execution_count": null,
      "metadata": {
        "colab": {
          "base_uri": "https://localhost:8080/",
          "height": 920
        },
        "id": "9xOLcvQdXWfd",
        "outputId": "ed0f90a9-3d95-424d-df5f-0769f62c370a"
      },
      "outputs": [],
      "source": [
        "context = \"\"\"Given a JSON entry of a data source, output a JSON with the following fields and explain the reasoning:\n",
        "pii: True/False, the dataset contains Personally Identifiable Information.\n",
        "age: How many years since the dataset was last modified.\n",
        "keywords: New keywords to index this dataset under, beyond the current set of keywords.\n",
        "The last text output should be the JSON.\n",
        "\"\"\"\n",
        "\n",
        "\n",
        "question = \"\"\"\n",
        "{\n",
        "    \"@type\" : \"dcat:Dataset\",\n",
        "    \"description\" : \"<p>The MDS 3.0 Frequency Report summarizes information for active residents currently in nursing homes. The source of these counts is the residents MDS assessment record. The MDS assessment information for each active nursing home resident is consolidated to create a profile of the most recent standard information for the resident.</p>\\n\",\n",
        "    \"title\" : \"MDS 3.0 Frequency Report\",\n",
        "    \"accessLevel\" : \"public\",\n",
        "    \"identifier\" : \"465\",\n",
        "    \"license\" : \"http://opendefinition.org/licenses/odc-odbl/\",\n",
        "    \"modified\" : \"2016-04-05\",\n",
        "    \"temporal\" : \"2012-01-01T00:00:00-05:00/2015-12-31T00:00:00-05:00\",\n",
        "    \"contactPoint\" : {\n",
        "      \"@type\" : \"vcard:Contact\",\n",
        "      \"fn\" : \"Health Data Initiative\",\n",
        "      \"hasEmail\" : \"mailto:HealthData@hhs.gov\"\n",
        "    },\n",
        "    \"bureauCode\" : [ \"009:38\" ],\n",
        "    \"keyword\" : [ \"Activities of Daily Living (ADL)\" ],\n",
        "    \"language\" : [ \"en\" ],\n",
        "    \"programCode\" : [ \"009:000\" ],\n",
        "    \"publisher\" : {\n",
        "      \"@type\" : \"org:Organization\",\n",
        "      \"name\" : \"Centers for Medicare & Medicaid Services\",\n",
        "      \"subOrganizationOf\" : {\n",
        "        \"@type\" : \"org:Organization\",\n",
        "        \"name\" : \"Department of Health & Human Services\"\n",
        "      }\n",
        "    }\n",
        "  }\n",
        "\n",
        "\n",
        "\"\"\"\n",
        "\n",
        "llm_call = f\"{context}\\nJSON:{question}\\nAnswer:\"\n",
        "_ = call_llm(model, \"cot_tagging_wrong\", parameters, llm_call)"
      ]
    },
    {
      "cell_type": "markdown",
      "metadata": {
        "id": "W0W-zY4uewRs"
      },
      "source": [
        "The JSON format is correct, but age is wrong and no keywords were predicted. Adding one exemplar leads to a correct response."
      ]
    },
    {
      "cell_type": "code",
      "execution_count": null,
      "metadata": {
        "colab": {
          "base_uri": "https://localhost:8080/",
          "height": 1000
        },
        "id": "qUn2EeXQe6pu",
        "outputId": "f14170ad-651f-46f2-e1c7-af00b63f7fe1"
      },
      "outputs": [],
      "source": [
        "one_shot_exemplar = \"\"\"\n",
        "JSON:\n",
        "{\n",
        "\n",
        "    \"@type\" : \"dcat:Dataset\",\n",
        "    \"description\" : \"The primary purpose of this system of records is to properly pay medical insurance benefits to or on behalf of entitled beneficiaries.\",\n",
        "    \"title\" : \"Medicare Multi-Carrier Claims System\",\n",
        "    \"accessLevel\" : \"restricted public\",\n",
        "    \"dataQuality\" : true,\n",
        "    \"identifier\" : \"b6ffafab-1cfd-42dd-b8cb-7a554efaefa7\",\n",
        "    \"landingPage\" : \"http://www.cms.gov/Research-Statistics-Data-and-Systems/Computer-Data-and-Systems/Privacy/Systems-of-Records-Items/09-70-0501-MCS.html\",\n",
        "    \"license\" : \"http://www.usa.gov/publicdomain/label/1.0/\",\n",
        "    \"modified\" : \"2014-09-30\",\n",
        "    \"rights\" : \"Contains personally identifiable information and is subject to the Privacy Act of 1974, as amended at 5 United States Code (U.S.C.) 552a.  Requests should be directed to the appropriate System Manager, identified in the System of Records notice.\",\n",
        "    \"primaryITInvestmentUII\" : \"009-000004256, 009-000004254\",\n",
        "    \"systemOfRecords\" : \"09-70-0501\",\n",
        "\n",
        "    \"contactPoint\" : {\n",
        "      \"@type\" : \"vcard:Contact\",\n",
        "      \"fn\" : \"Health Data Initiative\",\n",
        "      \"hasEmail\" : \"mailto:Healthdata@hhs.gov\"\n",
        "    },\n",
        "    \"bureauCode\" : [ \"009:38\" ],\n",
        "    \"keyword\" : [ \"medicare\", \"part b\", \"claims\" ],\n",
        "    \"programCode\" : [ \"009:078\" ],\n",
        "    \"theme\" : [ \"Medicare\" ],\n",
        "    \"publisher\" : {\n",
        "      \"@type\" : \"org:Organization\",\n",
        "      \"name\" : \"Centers for Medicare & Medicaid Services\",\n",
        "      \"subOrganizationOf\" : {\n",
        "        \"@type\" : \"org:Organization\",\n",
        "        \"name\" : \"Department of Health & Human Services\"\n",
        "      }\n",
        "    }\n",
        "  }\n",
        "\n",
        "Answer: The 'rights' tag says 'Contains personally identifiable information' so pii is True.\n",
        "The 'modified' tag is '2014-09-30'. The current year is 2023, 2023 minus 2014 is 9, so the age is 9.\n",
        "To determine keywords I will look at all the fields that describe the dataset.\n",
        "Then I will take the most salient and distinctive aspects of the fields and make those keywords.\n",
        "Looking at all the fields, the ones that describe the dataset are  \"description\" and \"title\".\n",
        "The \"title\" field is \"Medicare Multi-Carrier Claims System\".\n",
        "Good keywords from the \"title\" field are \"medicare\" and \"claims\".\n",
        "The \"description\" field is \"\"The primary purpose of this system of records is to properly pay medical insurance benefits to or on behalf of entitled beneficiaries.\"\n",
        "Good keywords from the \"description\" field are \"medical insurance benefits\".\n",
        "Good proposed keywords from both fields are \"medicare\", \"claims\", and \"medical insurance benefits\".\n",
        "Next inspect the \"keyword\" field to make sure the proposed keywords are not already included.\n",
        "The \"keyword\" field contains the keywords \"medicare\", \"part b\", and \"claims\".\n",
        "From our proposed keywords, \"medicare\" should not be output since it is already in the \"keyword\" field.\n",
        "That leaves \"claims\" and \"medical insurance benefits\" as proposed keywords.\n",
        "\n",
        "Output JSON:\n",
        "{\n",
        "  \"pii\" : true,\n",
        "  \"age\" : 9,\n",
        "  \"keywords\" : [\"claims\", \"medical insurance benefits\"]\n",
        "}\n",
        "\"\"\"\n",
        "\n",
        "# Prepending the one shot exemplar before the question we want answered.\n",
        "llm_call = f\"{context}{one_shot_exemplar}\\nJSON:{question}\\nAnswer:\"\n",
        "_ = call_llm(model, \"cot_tagging_correct\", parameters, llm_call)"
      ]
    },
    {
      "cell_type": "markdown",
      "metadata": {
        "id": "tbtSBsrpjg56"
      },
      "source": [
        "The output is correct but the reasoning on keyword overlap could be clearer, which would make the prompt more robust. Think about to improve this, then see the next cell for one solution."
      ]
    },
    {
      "cell_type": "code",
      "execution_count": null,
      "metadata": {
        "colab": {
          "base_uri": "https://localhost:8080/",
          "height": 1000
        },
        "id": "HIGy06bNkdNf",
        "outputId": "6827d253-c0b9-4d11-ac4d-2c514dae8717"
      },
      "outputs": [],
      "source": [
        "few_shot_exemplar = \"\"\"\n",
        "JSON:\n",
        "{\n",
        "\n",
        "    \"@type\" : \"dcat:Dataset\",\n",
        "    \"description\" : \"The primary purpose of this system of records is to properly pay medical insurance benefits to or on behalf of entitled beneficiaries.\",\n",
        "    \"title\" : \"Medicare Multi-Carrier Claims System\",\n",
        "    \"accessLevel\" : \"restricted public\",\n",
        "    \"dataQuality\" : true,\n",
        "    \"identifier\" : \"b6ffafab-1cfd-42dd-b8cb-7a554efaefa7\",\n",
        "    \"landingPage\" : \"http://www.cms.gov/Research-Statistics-Data-and-Systems/Computer-Data-and-Systems/Privacy/Systems-of-Records-Items/09-70-0501-MCS.html\",\n",
        "    \"license\" : \"http://www.usa.gov/publicdomain/label/1.0/\",\n",
        "    \"modified\" : \"2014-09-30\",\n",
        "    \"rights\" : \"Contains personally identifiable information and is subject to the Privacy Act of 1974, as amended at 5 United States Code (U.S.C.) 552a.  Requests should be directed to the appropriate System Manager, identified in the System of Records notice.\",\n",
        "    \"primaryITInvestmentUII\" : \"009-000004256, 009-000004254\",\n",
        "    \"systemOfRecords\" : \"09-70-0501\",\n",
        "\n",
        "    \"contactPoint\" : {\n",
        "      \"@type\" : \"vcard:Contact\",\n",
        "      \"fn\" : \"Health Data Initiative\",\n",
        "      \"hasEmail\" : \"mailto:Healthdata@hhs.gov\"\n",
        "    },\n",
        "    \"bureauCode\" : [ \"009:38\" ],\n",
        "    \"keyword\" : [ \"medicare\", \"part b\", \"claims\" ],\n",
        "    \"programCode\" : [ \"009:078\" ],\n",
        "    \"theme\" : [ \"Medicare\" ],\n",
        "    \"publisher\" : {\n",
        "      \"@type\" : \"org:Organization\",\n",
        "      \"name\" : \"Centers for Medicare & Medicaid Services\",\n",
        "      \"subOrganizationOf\" : {\n",
        "        \"@type\" : \"org:Organization\",\n",
        "        \"name\" : \"Department of Health & Human Services\"\n",
        "      }\n",
        "    }\n",
        "  }\n",
        "\n",
        "Answer: The \"rights\" field says 'Contains personally identifiable information' so pii is true.\n",
        "The \"modified\" field is \"2014-09-30\". The current year is 2023, 2023 minus 2014 is 9, so the age is 9.\n",
        "To determine keywords I will look at all the fields that describe the dataset.\n",
        "Then I will take the most salient and distinctive aspects of the fields and make those keywords.\n",
        "Looking at all the fields, the ones that describe the dataset are \"description\" and \"title\".\n",
        "The \"title\" field is \"Medicare Multi-Carrier Claims System\".\n",
        "Good keywords from the \"title\" field are \"medicare\" and \"claims\".\n",
        "The \"description\" field is \"The primary purpose of this system of records is to properly pay medical insurance benefits to or on behalf of entitled beneficiaries.\"\n",
        "Good keywords from the \"description\" field are \"medical insurance benefits\".\n",
        "Good proposed keywords from both fields are \"medicare\", \"claims\", and \"medical insurance benefits\".\n",
        "Next inspect the \"keyword\" field to make sure the proposed keywords are not already included.\n",
        "The \"keyword\" field contains the keywords \"medicare\", \"part b\", and \"claims\".\n",
        "From our proposed keywords, \"medicare\" should not be output since it is already in the \"keyword\" field.\n",
        "That leaves \"claims\" and \"medical insurance benefits\" as acceptable new keywords.\n",
        "\n",
        "Output JSON:\n",
        "{\n",
        "  \"pii\" : true,\n",
        "  \"age\" : 9,\n",
        "  \"keywords\" : [\"claims\", \"medical insurance benefits\"]\n",
        "}\n",
        "\n",
        "\n",
        "JSON:\n",
        "{\n",
        "  \"@type\": \"dcat:Dataset\",\n",
        "  \"title\": \"Data.gov Top 10 Visiting Countries - Archival\",\n",
        "  \"description\": \"This dataset provides top 10 visiting countries by month in Data.gov up to July 2013.\",\n",
        "  \"modified\": \"2016-01-20\",\n",
        "  \"accessLevel\": \"public\",\n",
        "  \"identifier\": \"GSA-32491\",\n",
        "  \"dataQuality\": true,\n",
        "  \"describedBy\": \"http://www.data.gov/metric\",\n",
        "  \"describedByType\": \"text/csv\",\n",
        "  \"issued\": \"2013-05-13\",\n",
        "  \"license\": \"https://creativecommons.org/publicdomain/zero/1.0/\",\n",
        "  \"spatial\": \"United States\",\n",
        "  \"publisher\": {\n",
        "      \"@type\": \"org:Organization\",\n",
        "      \"name\": \"General Services Administration\"\n",
        "  },\n",
        "  \"accrualPeriodicity\": \"R/P1M\",\n",
        "  \"isPartOf\": \"GSA-2015-09-14-01\",\n",
        "  \"contactPoint\": {\n",
        "      \"@type\": \"vcard:Contact\",\n",
        "      \"fn\": \"Hyon Joo Kim\",\n",
        "      \"hasEmail\": \"mailto:hyon.kim@gsa.gov\"\n",
        "  },\n",
        "  \"distribution\": [{\n",
        "          \"@type\": \"dcat:Distribution\",\n",
        "          \"mediaType\": \"text/csv\",\n",
        "          \"format\": \"text/csv\",\n",
        "          \"title\": \"Data.gov_Top_10_Visiting_Countries.csv\",\n",
        "          \"downloadURL\": \"https://inventory.data.gov/dataset/b0d40da1-a505-476a-a49b-cfc50ea6d9da/resource/0a1a3fb8-a813-4470-b50c-51b7856203be/download/userssharedsdfdata.govtop10visitingcountries.csv\"\n",
        "      }\n",
        "  ],\n",
        "  \"keyword\": [\"Countries\", \"Interactive\"],\n",
        "  \"bureauCode\": [\"023:00\"],\n",
        "  \"programCode\": [\"023:019\"],\n",
        "  \"language\": [\"us-EN\"],\n",
        "  \"theme\": [\"Countries\", \"Top 10\"]\n",
        "  }\n",
        "\n",
        "Answer: The \"accessLevel\" field says \"public\" so pii is False.\n",
        "The \"modified\" field is \"2016-01-20\". The current year is 2023, 2023 minus 16 is 7, so the age is 8.\n",
        "To determine keywords I will look at all the fields that describe the dataset.\n",
        "Then I will take the most salient and distinctive aspects of the fields and make those keywords.\n",
        "Looking at all the fields, the ones that describe the dataset are  \"description\" and \"title\".\n",
        "The \"title\" field is \"Data.gov Top 10 Visiting Countries - Archival\".\n",
        "Good keywords from the \"title\" field are \"data.gov\", \"top 10\".\n",
        "The \"description\" field is \"This dataset provides top 10 visiting countries by month in Data.gov up to July 2013.\"\n",
        "Good keywords from the \"description\" field are \"top 10\" and \"visiting countries\".\n",
        "Good proposed keywords from both fields are \"data.gov\", \"top 10\", and \"visiting countries\".\n",
        "Next inspect the \"keyword\" field to make sure the proposed keywords are not already included.\n",
        "The \"keyword\" field contains the keywords \"Countries\" and \"Interactive\"\n",
        "None of the proposed keywords are in the \"keyword\" field.\n",
        "\"data.gov\", \"top 10\", and \"visiting countries\" are all acceptable new keywords.\n",
        "\n",
        "Output JSON:\n",
        "{\n",
        "  \"pii\" : false,\n",
        "  \"age\" : 9,\n",
        "  \"keywords\" : [\"data.gov\", \"top 10\", \"visiting countries\"]\n",
        "}\n",
        "\"\"\"\n",
        "llm_call = f\"{context}{few_shot_exemplar}\\nJSON:{question}\\nAnswer:\"\n",
        "_ = call_llm(model, \"cot_tagging_best\", parameters, llm_call)"
      ]
    }
  ],
  "metadata": {
    "colab": {
      "provenance": [],
      "toc_visible": true
    },
    "kernelspec": {
      "display_name": "Python 3",
      "name": "python3"
    },
    "language_info": {
      "codemirror_mode": {
        "name": "ipython",
        "version": 3
      },
      "file_extension": ".py",
      "mimetype": "text/x-python",
      "name": "python",
      "nbconvert_exporter": "python",
      "pygments_lexer": "ipython3",
      "version": "3.10.13"
    }
  },
  "nbformat": 4,
  "nbformat_minor": 0
}
