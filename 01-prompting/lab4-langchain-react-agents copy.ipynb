{
  "cells": [
    {
      "cell_type": "markdown",
      "metadata": {
        "id": "-TeXWM0yxb8J"
      },
      "source": [
        "# LangChain and ReAct agents\n"
      ]
    },
    {
      "cell_type": "markdown",
      "metadata": {
        "id": "0IAVv4HGtafY"
      },
      "source": [
        "LangChain [announced 0.1.0](https://blog.langchain.dev/langchain-v0-1-0/) release on January 8th, 2024.\n",
        "\n",
        "LangChain also has proprietary evaluation and production tooling available under the name [Langsmith](https://docs.smith.langchain.com/)."
      ]
    },
    {
      "cell_type": "markdown",
      "metadata": {},
      "source": [
        "## Setup wandb"
      ]
    },
    {
      "cell_type": "code",
      "execution_count": null,
      "metadata": {},
      "outputs": [],
      "source": [
        "import os\n",
        "\n",
        "os.environ[\"LANGCHAIN_WANDB_TRACING\"] = \"true\"\n",
        "os.environ[\"WANDB_PROJECT\"] = \"cot\""
      ]
    },
    {
      "cell_type": "markdown",
      "metadata": {},
      "source": [
        "## Run Agent (chatgpt and text-bison)"
      ]
    },
    {
      "cell_type": "code",
      "execution_count": null,
      "metadata": {},
      "outputs": [],
      "source": [
        "from langchain import hub\n",
        "from langchain.agents import AgentExecutor, create_react_agent\n",
        "from langchain.llms import VertexAI\n",
        "from langchain.utilities.wikipedia import WikipediaAPIWrapper\n",
        "from langchain.tools.wikipedia.tool import WikipediaQueryRun\n",
        "\n",
        "from langchain_openai import OpenAI\n",
        "\n",
        "llm = OpenAI(openai_api_key=YOUR_OPENAI_API_KEY) # <--- CHANGE THIS\n",
        "\n",
        "api_wrapper = WikipediaAPIWrapper(top_k_results=1, doc_content_chars_max=100)\n",
        "tools = [WikipediaQueryRun(api_wrapper=api_wrapper)]\n",
        "\n",
        "# Get the prompt to use - you can modify this!\n",
        "prompt = hub.pull(\"hwchase17/react\")\n",
        "\n",
        "agent = create_react_agent(llm, tools, prompt)\n",
        "\n",
        "# Create an agent executor by passing in the agent and tools\n",
        "agent_executor = AgentExecutor(agent=agent, tools=tools, verbose=True)\n",
        "\n",
        "#agent_executor.invoke({\"input\": \"What US President costarred with a chimp in 'Bedtime for Bonzo'?\"})\n",
        "agent_executor.invoke({\"input\": \"What's 67^2?\"})"
      ]
    },
    {
      "cell_type": "code",
      "execution_count": null,
      "metadata": {},
      "outputs": [],
      "source": [
        "MODEL_NAME = 'text-bison@002'\n",
        "llm = VertexAI(model_name=MODEL_NAME, temperature=0)\n",
        "\n",
        "agent_google = create_react_agent(llm, tools, prompt)\n",
        "\n",
        "# Create an agent executor by passing in the agent and tools\n",
        "agent_executor = AgentExecutor(agent=agent_google, tools=tools, verbose=True)\n",
        "\n",
        "#agent_executor.invoke({\"input\": \"What US President costarred with a chimp in 'Bedtime for Bonzo'?\"})\n",
        "agent_executor.invoke({\"input\": \"What's 67^2?\"})"
      ]
    }
  ],
  "metadata": {
    "colab": {
      "provenance": [],
      "toc_visible": true
    },
    "kernelspec": {
      "display_name": "Python 3",
      "name": "python3"
    },
    "language_info": {
      "codemirror_mode": {
        "name": "ipython",
        "version": 3
      },
      "file_extension": ".py",
      "mimetype": "text/x-python",
      "name": "python",
      "nbconvert_exporter": "python",
      "pygments_lexer": "ipython3",
      "version": "3.10.13"
    }
  },
  "nbformat": 4,
  "nbformat_minor": 0
}
