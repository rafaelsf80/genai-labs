{
 "cells": [
  {
   "cell_type": "markdown",
   "id": "64c0e4cd",
   "metadata": {},
   "source": [
    "# 02-4: QLoRA tuning of Mistral-7B with custom dataset\n",
    "\n",
    "This Colab needs GPU."
   ]
  },
  {
   "cell_type": "code",
   "execution_count": null,
   "id": "21a26ee6-16f3-4be4-b131-75ec5f8713c6",
   "metadata": {},
   "outputs": [],
   "source": [
    "# Install latest packages to avoid issues\n",
    "!pip install -q accelerate accelerate==0.21.0 peft bitsandbytes transformers trl datasets==2.14.5 torch==2.0.1 --upgrade --user\n",
    "!pip install wandb"
   ]
  },
  {
   "cell_type": "code",
   "execution_count": null,
   "id": "4652f18b-0c64-433f-95d3-1151e3304c0f",
   "metadata": {},
   "outputs": [],
   "source": [
    "# set wandb configuration\n",
    "import wandb\n",
    "wandb.login()  \n",
    "wandb.init(\n",
    "    # set the wandb project where this run will be logged\n",
    "    project=\"qlora-tests\"\n",
    ")\n",
    "wandb.run.name = \"qlora-mistral\""
   ]
  },
  {
   "cell_type": "markdown",
   "id": "324768ae",
   "metadata": {},
   "source": [
    "## Init"
   ]
  },
  {
   "cell_type": "code",
   "execution_count": null,
   "id": "20570fef-8ac3-4cfe-8230-7b1f6c69adb1",
   "metadata": {},
   "outputs": [],
   "source": [
    "import torch\n",
    "import transformers\n",
    "import datasets\n",
    "from datasets import load_dataset\n",
    "from transformers import (\n",
    "    AutoModelForCausalLM,\n",
    "    AutoTokenizer,\n",
    "    BitsAndBytesConfig,\n",
    "    TrainingArguments,\n",
    "    pipeline\n",
    ")\n",
    "from peft import LoraConfig, PeftModel\n",
    "from trl import SFTTrainer\n",
    "\n",
    "print(f\"Runtime: {'GPU' if torch.cuda.is_available() else 'CPU'}\")\n",
    "print(f\"PyTorch version : {torch.__version__}\")\n",
    "print(f\"Transformers version : {transformers.__version__}\")\n",
    "print(f\"Datasets version : {datasets.__version__}\")"
   ]
  },
  {
   "cell_type": "markdown",
   "id": "557f76cc",
   "metadata": {},
   "source": [
    "## Load model\n",
    "\n",
    "Load quantized model to reduce memory usage"
   ]
  },
  {
   "cell_type": "code",
   "execution_count": null,
   "id": "87715826",
   "metadata": {},
   "outputs": [],
   "source": [
    "# TODO: Set bitsandbytes config\n",
    "\n",
    "# Load the entire model on the GPU 0\n",
    "device_map = {\"\": 0}\n",
    "\n",
    "# Load base model\n",
    "model_name = \"mistralai/Mistral-7B-v0.1\"\n",
    "base_model = AutoModelForCausalLM.from_pretrained(\n",
    "    model_name,\n",
    "    quantization_config=bnb_config,\n",
    "    device_map=device_map\n",
    ")\n",
    "\n",
    "\n",
    "prompt = 'Below is an instruction that describes a question. Write a response that ' \\\n",
    "           'appropirately answer the request.\\n\\n'\n",
    "prompt += f'### Instruction: What is Model garden ?\\n\\n'\n",
    "prompt += f'### Response:'\n",
    "\n",
    "\n",
    "# Select modules for LoraConfig\n",
    "import bitsandbytes as bnb\n",
    "\n",
    "def find_all_linear_names(model):\n",
    "    cls = bnb.nn.Linear4bit\n",
    "    lora_module_names = set()\n",
    "    for name, module in model.named_modules():\n",
    "        if isinstance(module, cls):\n",
    "            names = name.split('.')\n",
    "            lora_module_names.add(names[0] if len(names) == 1 else names[-1])\n",
    "        if 'lm_head' in lora_module_names: # needed for 16-bit\n",
    "            lora_module_names.remove('lm_head')\n",
    "    return list(lora_module_names)\n",
    "            \n",
    "modules = find_all_linear_names(base_model)\n",
    "print(modules)\n",
    "\n",
    "# TODO: Set LoRA configuration\n",
    "\n",
    "# Important to avoid OOM errors\n",
    "from peft import prepare_model_for_kbit_training\n",
    "base_model.gradient_checkpointing_enable()\n",
    "model = prepare_model_for_kbit_training(base_model)"
   ]
  },
  {
   "cell_type": "code",
   "execution_count": null,
   "id": "4960e583",
   "metadata": {},
   "outputs": [],
   "source": [
    "from peft import get_peft_model\n",
    "model = get_peft_model(model, peft_config)"
   ]
  },
  {
   "cell_type": "markdown",
   "id": "7f83fc7b",
   "metadata": {},
   "source": [
    "## Load dataset"
   ]
  },
  {
   "cell_type": "code",
   "execution_count": null,
   "id": "4ed885d1",
   "metadata": {},
   "outputs": [],
   "source": [
    "dataset = load_dataset('json', data_files='./vertexai-qna500.jsonl', split=\"train\")\n",
    "\n",
    "# Load tokenizer\n",
    "model_name = \"mistralai/Mistral-7B-v0.1\"\n",
    "tokenizer = AutoTokenizer.from_pretrained(model_name,add_eos_token=True)\n",
    "tokenizer.pad_token = tokenizer.eos_token\n",
    "#tokenizer.padding_side = \"right\" # Fix weird overflow issue with fp16 training ERROR PUSE padding_size\n",
    "\n",
    "\n",
    "def generate_prompt_mistral(input):\n",
    "    text = 'Below is an instruction that describes a question. Write a response that ' \\\n",
    "           'appropirately answer the request.\\n\\n'\n",
    "    text += f'### Instruction:\\n{input[\"input_text\"]}\\n\\n'\n",
    "    text += f'### Response:\\n{input[\"output_text\"]}'\n",
    "    return text\n",
    "\n",
    "\n",
    "text_column =[generate_prompt_mistral(data_point) for data_point in dataset]\n",
    "data = dataset.add_column(\"prompt\", text_column)\n",
    "\n",
    "# Tokenize and shuffle\n",
    "\n",
    "data = data.shuffle(seed=572)\n",
    "data = data.map(lambda samples: tokenizer(samples[\"prompt\"]), batched=True)\n",
    "\n",
    "data = data.train_test_split(test_size=0.1)\n",
    "train_data = data[\"train\"]\n",
    "test_data = data[\"test\"]\n",
    "\n",
    "print(test_data)\n",
    "print(test_data['prompt'][33])"
   ]
  },
  {
   "cell_type": "markdown",
   "id": "80cb4390",
   "metadata": {},
   "source": [
    "## Training"
   ]
  },
  {
   "cell_type": "code",
   "execution_count": null,
   "id": "d7b1a469",
   "metadata": {},
   "outputs": [],
   "source": [
    "\n",
    "# TODO: Set SFT TrainingArguments\n",
    "\n",
    "\n",
    "# TODO: Set SFTTrainer parameters\n",
    "\n",
    "# Train model\n",
    "trainer.train()\n",
    "\n",
    "# Stop sending metrics to wandb\n",
    "wandb.finish()\n",
    "\n",
    "trainer.save_model()\n",
    "\n",
    "\n",
    "\n",
    "# Run text generation pipeline with our next model\n",
    "prompt = 'Below is an instruction that describes a question. Write a response that ' \\\n",
    "          'appropriately answer the request.\\n\\n'\n",
    "prompt += f'### Instruction: What is Model garden ?\\n\\n'\n",
    "prompt += f'### Response:'\n",
    "\n",
    "# TODO: Run inference with first model (without QLoRA)\n",
    "\n",
    "# TODO: Activate QLoRA adapter and run inference again\n"
   ]
  },
  {
   "cell_type": "markdown",
   "id": "fd155e85",
   "metadata": {},
   "source": [
    "## Restart to free GPU RAM"
   ]
  },
  {
   "cell_type": "code",
   "execution_count": null,
   "id": "2076fe38-6f49-4e4e-97d4-8e9710509795",
   "metadata": {},
   "outputs": [],
   "source": [
    "# Empty VRAM. Restart kernel\n",
    "del tokenizer\n",
    "#del pipe\n",
    "del trainer\n",
    "del model\n",
    "del base_model\n",
    "import gc\n",
    "gc.collect()\n",
    "gc.collect()\n",
    "torch.cuda.empty_cache()\n",
    "torch.cuda.memory_stats(device=\"cuda\")"
   ]
  },
  {
   "cell_type": "markdown",
   "id": "394c2ac7",
   "metadata": {},
   "source": [
    "## Merge model"
   ]
  },
  {
   "cell_type": "code",
   "execution_count": null,
   "id": "5a423a08-b251-4911-970f-bdfa56935e8c",
   "metadata": {},
   "outputs": [],
   "source": [
    "from peft import AutoPeftModelForCausalLM\n",
    "\n",
    "# TODO: Merge QLoRA adapter with model and save"
   ]
  }
 ],
 "metadata": {
  "environment": {
   "kernel": "conda-root-py",
   "name": "workbench-notebooks.m110",
   "type": "gcloud",
   "uri": "gcr.io/deeplearning-platform-release/workbench-notebooks:m110"
  },
  "kernelspec": {
   "display_name": "PyTorch 1-13",
   "language": "python",
   "name": "pytorch"
  },
  "language_info": {
   "codemirror_mode": {
    "name": "ipython",
    "version": 3
   },
   "file_extension": ".py",
   "mimetype": "text/x-python",
   "name": "python",
   "nbconvert_exporter": "python",
   "pygments_lexer": "ipython3",
   "version": "3.10.12"
  }
 },
 "nbformat": 4,
 "nbformat_minor": 5
}
