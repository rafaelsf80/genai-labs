{
  "cells": [
    {
      "cell_type": "markdown",
      "id": "9887c243",
      "metadata": {
        "id": "9887c243"
      },
      "source": [
        "# 04-4: Diffusion DDPM."
      ]
    },
    {
      "cell_type": "code",
      "execution_count": null,
      "id": "9bf06f68",
      "metadata": {
        "id": "9bf06f68"
      },
      "outputs": [],
      "source": [
        "import matplotlib.pyplot as plt\n",
        "import seaborn as sns"
      ]
    },
    {
      "cell_type": "markdown",
      "id": "0b284f76",
      "metadata": {
        "id": "0b284f76"
      },
      "source": [
        "## Dataset. Espiral Swissroll"
      ]
    },
    {
      "cell_type": "code",
      "execution_count": null,
      "id": "c0311948",
      "metadata": {
        "colab": {
          "base_uri": "https://localhost:8080/",
          "height": 447
        },
        "id": "c0311948",
        "outputId": "899e7051-4604-439f-a802-083c0ce80c6a"
      },
      "outputs": [],
      "source": [
        "from sklearn.datasets import make_swiss_roll\n",
        "\n",
        "x, _ = make_swiss_roll(n_samples=100000, noise=0.5)\n",
        "# Make two-dimensional to easen visualization\n",
        "x = x[:, [0, 2]]\n",
        "\n",
        "x = (x - x.mean()) / x.std()\n",
        "\n",
        "plt.scatter(x[:, 0], x[:, 1])"
      ]
    },
    {
      "cell_type": "code",
      "execution_count": null,
      "id": "8de92ee4",
      "metadata": {
        "id": "8de92ee4"
      },
      "outputs": [],
      "source": [
        "import torch\n",
        "\n",
        "X = torch.tensor(x, dtype=torch.float32)"
      ]
    },
    {
      "cell_type": "markdown",
      "id": "d9166d03",
      "metadata": {
        "id": "d9166d03"
      },
      "source": [
        "## Hiperparámetros"
      ]
    },
    {
      "cell_type": "code",
      "execution_count": null,
      "id": "9e934300",
      "metadata": {
        "colab": {
          "base_uri": "https://localhost:8080/",
          "height": 449
        },
        "id": "9e934300",
        "outputId": "2a200825-f75f-40c9-ea4e-103954a8fe98"
      },
      "outputs": [],
      "source": [
        "diffusion_steps = 40  # Number of steps in the diffusion process\n",
        "\n",
        "# Set noising variances betas as in Nichol and Dariwal paper (https://arxiv.org/pdf/2102.09672.pdf)\n",
        "s = 0.008\n",
        "timesteps = torch.tensor(range(0, diffusion_steps), dtype=torch.float32)\n",
        "schedule = torch.cos((timesteps / diffusion_steps + s) / (1 + s) * torch.pi / 2)**2\n",
        "\n",
        "baralphas = schedule / schedule[0]\n",
        "betas = 1 - baralphas / torch.concatenate([baralphas[0:1], baralphas[0:-1]])\n",
        "alphas = 1 - betas\n",
        "\n",
        "# Check the cumulative alphas follow the distribution recommended in the paper\n",
        "sns.lineplot(baralphas)\n",
        "plt.xlabel(\"Diffusion step\")\n",
        "plt.ylabel(r\"$\\bar{\\alpha}$\")\n",
        "plt.show()"
      ]
    },
    {
      "cell_type": "markdown",
      "id": "78ad4b64",
      "metadata": {
        "id": "78ad4b64"
      },
      "source": [
        "Función que introduce ruido al paso t:"
      ]
    },
    {
      "cell_type": "code",
      "execution_count": null,
      "id": "55680085",
      "metadata": {
        "id": "55680085"
      },
      "outputs": [],
      "source": [
        "def noise(Xbatch, t):\n",
        "    eps = torch.randn(size=Xbatch.shape)\n",
        "    noised = (baralphas[t] ** 0.5).repeat(1, Xbatch.shape[1]) * Xbatch + ((1 - baralphas[t]) ** 0.5).repeat(1, Xbatch.shape[1]) * eps\n",
        "    return noised, eps"
      ]
    },
    {
      "cell_type": "markdown",
      "id": "9ac6282b",
      "metadata": {
        "id": "9ac6282b"
      },
      "source": [
        "Comparo imagen original (espiral original) con ruido en paso 30:"
      ]
    },
    {
      "cell_type": "code",
      "execution_count": null,
      "id": "816df6ef",
      "metadata": {
        "colab": {
          "base_uri": "https://localhost:8080/",
          "height": 430
        },
        "id": "816df6ef",
        "outputId": "4501e29b-51bd-4fff-d60a-7d80c813f235"
      },
      "outputs": [],
      "source": [
        "noiselevel = 20\n",
        "\n",
        "noised, eps = noise(X, torch.full([len(X), 1], fill_value=noiselevel))\n",
        "plt.scatter(noised[:, 0], noised[:, 1], marker=\"*\", alpha=0.5)\n",
        "plt.scatter(X[:, 0], X[:, 1], alpha=0.5)\n",
        "plt.legend([\"Noised data\", \"Original data\"])\n",
        "plt.show()"
      ]
    },
    {
      "cell_type": "markdown",
      "id": "d74fa559",
      "metadata": {
        "id": "d74fa559"
      },
      "source": [
        "Recupero el ruido ya que sé la imagen original:"
      ]
    },
    {
      "cell_type": "code",
      "execution_count": null,
      "id": "2c1eae23",
      "metadata": {
        "colab": {
          "base_uri": "https://localhost:8080/",
          "height": 430
        },
        "id": "2c1eae23",
        "outputId": "93cd542c-5e40-40de-8b38-110b8866b641"
      },
      "outputs": [],
      "source": [
        "denoised = 1 / torch.sqrt(baralphas[noiselevel]) * (noised - torch.sqrt(1 - baralphas[noiselevel]) * eps)\n",
        "plt.scatter(X[:, 0], X[:, 1], alpha=0.5)\n",
        "plt.scatter(denoised[:, 0], denoised[:, 1], marker=\"1\", alpha=0.5)\n",
        "plt.legend([\"Original data\", \"Recovered original data\"])\n",
        "plt.show()"
      ]
    },
    {
      "cell_type": "markdown",
      "id": "39202a7c",
      "metadata": {
        "id": "39202a7c"
      },
      "source": [
        "## Red de difusión"
      ]
    },
    {
      "cell_type": "code",
      "execution_count": null,
      "id": "0135e389",
      "metadata": {
        "id": "0135e389"
      },
      "outputs": [],
      "source": [
        "import torch.nn as nn\n",
        "\n",
        "class DiffusionBlock(nn.Module):\n",
        "    def __init__(self, nunits):\n",
        "        super(DiffusionBlock, self).__init__()\n",
        "        self.linear = nn.Linear(nunits, nunits)\n",
        "\n",
        "    def forward(self, x: torch.Tensor):\n",
        "        x = self.linear(x)\n",
        "        x = nn.functional.relu(x)\n",
        "        return x\n",
        "\n",
        "\n",
        "class DiffusionModel(nn.Module):\n",
        "    def __init__(self, nfeatures: int, nblocks: int = 2, nunits: int = 64):\n",
        "        super(DiffusionModel, self).__init__()\n",
        "\n",
        "        self.inblock = nn.Linear(nfeatures+1, nunits)\n",
        "        self.midblocks = nn.ModuleList([DiffusionBlock(nunits) for _ in range(nblocks)])\n",
        "        self.outblock = nn.Linear(nunits, nfeatures)\n",
        "\n",
        "    def forward(self, x: torch.Tensor, t: torch.Tensor) -> torch.Tensor:\n",
        "        val = torch.hstack([x, t])  # Add t to inputs\n",
        "        val = self.inblock(val)\n",
        "        for midblock in self.midblocks:\n",
        "            val = midblock(val)\n",
        "        val = self.outblock(val)\n",
        "        return val"
      ]
    },
    {
      "cell_type": "markdown",
      "id": "0b114583",
      "metadata": {
        "id": "0b114583"
      },
      "source": [
        "Creo modelo sencillo con 4 bloques"
      ]
    },
    {
      "cell_type": "code",
      "execution_count": null,
      "id": "b3a9caf1",
      "metadata": {
        "colab": {
          "base_uri": "https://localhost:8080/"
        },
        "id": "b3a9caf1",
        "outputId": "1fbe8f05-72ff-411e-f3cb-71d8170b7f23"
      },
      "outputs": [],
      "source": [
        "model = DiffusionModel(nfeatures=2, nblocks=4)\n",
        "\n",
        "## Recommended to move to GPU\n",
        "import sys\n",
        "if sys.platform==\"darwin\":\n",
        "    model.to(\"mps\")\n",
        "    device = \"mps\"\n",
        "else:\n",
        "    model.to(\"cuda\")\n",
        "    device = \"cuda\""
      ]
    },
    {
      "cell_type": "markdown",
      "id": "6e379f97",
      "metadata": {
        "id": "6e379f97"
      },
      "source": [
        "## Entrenamiento"
      ]
    },
    {
      "cell_type": "code",
      "execution_count": null,
      "id": "7d045d15",
      "metadata": {
        "colab": {
          "base_uri": "https://localhost:8080/"
        },
        "id": "7d045d15",
        "outputId": "d018395c-20c8-4304-f8a4-693fa79903db",
        "scrolled": true
      },
      "outputs": [],
      "source": [
        "import torch.optim as optim\n",
        "\n",
        "nepochs = 100\n",
        "batch_size = 2048\n",
        "\n",
        "loss_fn = nn.MSELoss()\n",
        "optimizer = optim.Adam(model.parameters(), lr=0.001)\n",
        "scheduler = optim.lr_scheduler.LinearLR(optimizer, start_factor=1.0, end_factor=0.01, total_iters=nepochs)\n",
        "\n",
        "for epoch in range(nepochs):\n",
        "    epoch_loss = steps = 0\n",
        "    for i in range(0, len(X), batch_size):\n",
        "        Xbatch = X[i:i+batch_size]\n",
        "        timesteps = torch.randint(0, diffusion_steps, size=[len(Xbatch), 1])\n",
        "        noised, eps = noise(Xbatch, timesteps)\n",
        "        predicted_noise = model(noised.to(device), timesteps.to(device))\n",
        "        loss = loss_fn(predicted_noise, eps.to(device))\n",
        "        optimizer.zero_grad()\n",
        "        loss.backward()\n",
        "        optimizer.step()\n",
        "        epoch_loss += loss\n",
        "        steps += 1\n",
        "    print(f\"Epoch {epoch} loss = {epoch_loss / steps}\")"
      ]
    },
    {
      "cell_type": "markdown",
      "id": "31f6c44f",
      "metadata": {
        "id": "31f6c44f"
      },
      "source": [
        "## Función de muestreo"
      ]
    },
    {
      "cell_type": "code",
      "execution_count": null,
      "id": "67f970fa",
      "metadata": {
        "id": "67f970fa"
      },
      "outputs": [],
      "source": [
        "def sample_ddpm(model, nsamples, nfeatures):\n",
        "    \"\"\"Sampler following the Denoising Diffusion Probabilistic Models method by Ho et al (Algorithm 2)\"\"\"\n",
        "    with torch.no_grad():\n",
        "        x = torch.randn(size=(nsamples, nfeatures)).to(device)\n",
        "        xt = [x]\n",
        "        for t in range(diffusion_steps-1, 0, -1):\n",
        "            predicted_noise = model(x, torch.full([nsamples, 1], t).to(device))\n",
        "            # See DDPM paper between equations 11 and 12\n",
        "            x = 1 / (alphas[t] ** 0.5) * (x - (1 - alphas[t]) / ((1-baralphas[t]) ** 0.5) * predicted_noise)\n",
        "            if t > 1:\n",
        "                # See DDPM paper section 3.2.\n",
        "                # Choosing the variance through beta_t is optimal for x_0 a normal distribution\n",
        "                variance = betas[t]\n",
        "                std = variance ** (0.5)\n",
        "                x += std * torch.randn(size=(nsamples, nfeatures)).to(device)\n",
        "            xt += [x]\n",
        "        return x, xt"
      ]
    },
    {
      "cell_type": "markdown",
      "id": "d17f0c80",
      "metadata": {
        "id": "d17f0c80"
      },
      "source": [
        "## Muestreo"
      ]
    },
    {
      "cell_type": "code",
      "execution_count": null,
      "id": "1fe9cb09",
      "metadata": {
        "colab": {
          "base_uri": "https://localhost:8080/",
          "height": 430
        },
        "id": "1fe9cb09",
        "outputId": "e5252a7d-4402-49cd-b76f-661a84095dd6"
      },
      "outputs": [],
      "source": [
        "Xgen, Xgen_hist = sample_ddpm(model, 10000, 2)\n",
        "Xgen = Xgen.cpu()\n",
        "plt.scatter(X[:, 0], X[:, 1], alpha=0.5)\n",
        "plt.scatter(Xgen[:, 0], Xgen[:, 1], marker=\"1\", alpha=0.5)\n",
        "plt.legend([\"Original data\", \"Generated data\"])\n",
        "plt.show()"
      ]
    },
    {
      "cell_type": "markdown",
      "id": "14e61272",
      "metadata": {
        "id": "14e61272"
      },
      "source": [
        "Animación:"
      ]
    },
    {
      "cell_type": "code",
      "execution_count": null,
      "id": "d1e6ec89",
      "metadata": {
        "colab": {
          "base_uri": "https://localhost:8080/",
          "height": 430
        },
        "id": "d1e6ec89",
        "outputId": "89feecec-ceac-4b4e-d69d-f51ef98579d1"
      },
      "outputs": [],
      "source": [
        "import matplotlib.animation as animation\n",
        "\n",
        "def draw_frame(i):\n",
        "    plt.clf()\n",
        "    Xvis = Xgen_hist[i].cpu()\n",
        "    fig = plt.scatter(Xvis[:, 0], Xvis[:, 1], marker=\"1\", animated=True)\n",
        "    plt.xlim([-2.5, 2.5])\n",
        "    plt.ylim([-2.5, 2.5])\n",
        "    return fig,\n",
        "\n",
        "fig = plt.figure()\n",
        "anim = animation.FuncAnimation(fig, draw_frame, frames=40, interval=20, blit=True)\n",
        "anim.save('swissroll_generation.gif', writer='PillowWriter', fps=10)"
      ]
    }
  ],
  "metadata": {
    "accelerator": "GPU",
    "colab": {
      "gpuType": "T4",
      "provenance": []
    },
    "kernelspec": {
      "display_name": "Python 3",
      "name": "python3"
    },
    "language_info": {
      "codemirror_mode": {
        "name": "ipython",
        "version": 3
      },
      "file_extension": ".py",
      "mimetype": "text/x-python",
      "name": "python",
      "nbconvert_exporter": "python",
      "pygments_lexer": "ipython3",
      "version": "3.11.6"
    }
  },
  "nbformat": 4,
  "nbformat_minor": 5
}
