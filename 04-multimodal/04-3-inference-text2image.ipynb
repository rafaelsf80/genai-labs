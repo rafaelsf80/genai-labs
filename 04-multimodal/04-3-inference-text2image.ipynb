{
 "cells": [
  {
   "cell_type": "markdown",
   "metadata": {},
   "source": [
    "# 04-3: Inference text-to-image"
   ]
  },
  {
   "cell_type": "code",
   "execution_count": null,
   "metadata": {},
   "outputs": [],
   "source": [
    "PROMPT = \"\"\"During a city-wide blackout in Madrid, a man walks down a street, illuminated only by the distant red  and blue glow of emergency vehicle lights.   On a billboard, which is the only one illuminated, the following words are written: \"CURSO DE GENERATIVE AI\" with plain black background and no branding. No streetlights are visible due to the power outage.  The sky is completely dark and no lights from the street.\"\"\""
   ]
  },
  {
   "cell_type": "markdown",
   "metadata": {},
   "source": [
    "## Dall-E"
   ]
  },
  {
   "cell_type": "code",
   "execution_count": null,
   "metadata": {},
   "outputs": [],
   "source": [
    "!pip install -q openai invisible_watermark transformers accelerate safetensors diffusers controlnet_aux==0.0.7 xformers mediapy"
   ]
  },
  {
   "cell_type": "code",
   "execution_count": null,
   "metadata": {},
   "outputs": [],
   "source": [
    "import os\n",
    "from openai import OpenAI"
   ]
  },
  {
   "cell_type": "code",
   "execution_count": null,
   "metadata": {},
   "outputs": [],
   "source": [
    "# TODO: Run inference with \"dall-e-3\""
   ]
  },
  {
   "cell_type": "markdown",
   "metadata": {},
   "source": [
    "## Stable Diffusion 1.5 with DDIM scheduler"
   ]
  },
  {
   "cell_type": "code",
   "execution_count": null,
   "metadata": {},
   "outputs": [],
   "source": [
    "from diffusers import StableDiffusionPipeline, DDIMScheduler"
   ]
  },
  {
   "cell_type": "code",
   "execution_count": null,
   "metadata": {},
   "outputs": [],
   "source": [
    "# TODO: Run inference with Stable Diffusion 1.5 with DDIM scheduler, \"runwayml/stable-diffusion-v1-5\"\""
   ]
  },
  {
   "cell_type": "markdown",
   "metadata": {},
   "source": [
    "## Stable Diffusion XL 1.0"
   ]
  },
  {
   "cell_type": "code",
   "execution_count": null,
   "metadata": {},
   "outputs": [],
   "source": [
    "import torch\n",
    "from diffusers import StableDiffusionXLImg2ImgPipeline, DiffusionPipeline, KDPM2AncestralDiscreteScheduler, StableDiffusionXLPipeline, AutoencoderKL\n",
    "import gc\n",
    "from PIL import Image\n",
    "import requests\n",
    "from io import BytesIO\n",
    "from IPython.display import display"
   ]
  },
  {
   "cell_type": "code",
   "execution_count": null,
   "metadata": {},
   "outputs": [],
   "source": [
    "# TODO: Run inference with Stable Diffusion XL 1.0 base \"stabilityai/stable-diffusion-xl-base-1.0\" and autoencoder \"\"madebyollin/sdxl-vae-fp16-fix\"\n",
    "# TODO: Run inference with Stable Diffusion XL 1.0 refiner \"stabilityai/stable-diffusion-xl-refiner-1.0\""
   ]
  },
  {
   "cell_type": "markdown",
   "metadata": {},
   "source": [
    "## Imagen3"
   ]
  },
  {
   "cell_type": "code",
   "execution_count": null,
   "metadata": {},
   "outputs": [],
   "source": [
    "from google import genai\n",
    "from google.genai import types\n",
    "from PIL import Image\n",
    "from io import BytesIO\n",
    "from IPython.display import display\n",
    "\n",
    "import getpass\n",
    "google_api_key = getpass.getpass()\n",
    "\n",
    "client = genai.Client(api_key=google_api_key)\n",
    "\n",
    "response = client.models.generate_images(\n",
    "    model='imagen-3.0-generate-002',\n",
    "    prompt=PROMPT,\n",
    "    config=types.GenerateImagesConfig(\n",
    "        number_of_images= 2,\n",
    "    )\n",
    ")\n",
    "print(response)\n",
    "for generated_image in response.generated_images:\n",
    "  image = Image.open(BytesIO(generated_image.image.image_bytes))\n",
    "  display(image)"
   ]
  }
 ],
 "metadata": {
  "kernelspec": {
   "display_name": "Python 3",
   "language": "python",
   "name": "python3"
  },
  "language_info": {
   "codemirror_mode": {
    "name": "ipython",
    "version": 3
   },
   "file_extension": ".py",
   "mimetype": "text/x-python",
   "name": "python",
   "nbconvert_exporter": "python",
   "pygments_lexer": "ipython3",
   "version": "3.10.13"
  }
 },
 "nbformat": 4,
 "nbformat_minor": 2
}
